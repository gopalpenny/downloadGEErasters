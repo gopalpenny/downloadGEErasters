{
 "cells": [
  {
   "cell_type": "code",
   "execution_count": 1,
   "metadata": {},
   "outputs": [],
   "source": [
    "import geemap\n",
    "import ee"
   ]
  },
  {
   "cell_type": "code",
   "execution_count": 2,
   "metadata": {},
   "outputs": [],
   "source": [
    "ee.Initialize()"
   ]
  },
  {
   "cell_type": "code",
   "execution_count": 3,
   "metadata": {},
   "outputs": [],
   "source": [
    "gadm_4 = ee.FeatureCollection(\"projects/ee-gopalpenny/assets/INDIA_SUBDISTRICT_11\")"
   ]
  },
  {
   "cell_type": "code",
   "execution_count": 4,
   "metadata": {},
   "outputs": [
    {
     "data": {
      "text/plain": [
       "997"
      ]
     },
     "execution_count": 4,
     "metadata": {},
     "output_type": "execute_result"
    }
   ],
   "source": [
    "# gadm_4.filter(ee.Filter.inList('STATE_UT',['Bihar','Uttar Pradesh','Punjab','Haryana'])).size().getInfo()\n",
    "subdists = gadm_4.filter(ee.Filter.inList('STATE_UT',['Bihar','Uttar Pradesh','Punjab','Haryana'])) #.size().getInfo()\n",
    "# subdists = gadm_4.filter(ee.Filter.inList('STATE_UT',['Haryana'])) #.size().getInfo()\n",
    "subdists.size().getInfo()"
   ]
  },
  {
   "cell_type": "code",
   "execution_count": 5,
   "metadata": {},
   "outputs": [],
   "source": [
    "firms = ee.ImageCollection(\"FIRMS\").select(\"T21\")\n",
    "\n",
    "firesVis = {\n",
    "  'min': 325.0,\n",
    "  'max': 400.0,\n",
    "  'palette': ['red', 'orange', 'yellow'],\n",
    "}"
   ]
  },
  {
   "cell_type": "code",
   "execution_count": 6,
   "metadata": {},
   "outputs": [
    {
     "data": {
      "text/plain": [
       "{'type': 'Image',\n",
       " 'bands': [{'id': 'T21_max',\n",
       "   'data_type': {'type': 'PixelType', 'precision': 'float'},\n",
       "   'crs': 'EPSG:4326',\n",
       "   'crs_transform': [1, 0, 0, 0, 1, 0]}],\n",
       " 'properties': {'year': 2016, 'system:index': '0'}}"
      ]
     },
     "execution_count": 6,
     "metadata": {},
     "output_type": "execute_result"
    }
   ],
   "source": [
    "start_year = 2016\n",
    "end_year = 2022\n",
    "years = ee.List.sequence(start_year,end_year)\n",
    "yr = years.get(0)\n",
    "\n",
    "def getFires(yr):\n",
    "    start = ee.Date.fromYMD(yr,11,1)\n",
    "    end = ee.Date.fromYMD(yr,12,1)\n",
    "    fires_november = firms.filterDate(start,end).reduce(ee.Reducer.max())\n",
    "    fires_november = fires_november.set('year',yr)\n",
    "    return fires_november\n",
    "\n",
    "fires_november = ee.ImageCollection(years.map(getFires))\n",
    "fires_november.first().getInfo()\n"
   ]
  },
  {
   "cell_type": "code",
   "execution_count": 8,
   "metadata": {},
   "outputs": [],
   "source": [
    "\n",
    "def reduce_fires(image):\n",
    "    subdist_fires = image.reduceRegions(\n",
    "      collection=subdists,\n",
    "      reducer=ee.Reducer.count(),\n",
    "      scale=1000,\n",
    "    )\n",
    "    subdist_fires = subdist_fires.map(lambda x: x.set('year',image.get('year')))\n",
    "    return subdist_fires\n",
    "\n",
    "fires = fires_november.map(reduce_fires).flatten()\n",
    "# fires.first().getInfo()\n"
   ]
  },
  {
   "cell_type": "code",
   "execution_count": 11,
   "metadata": {},
   "outputs": [],
   "source": [
    "task = ee.batch.Export.table.toDrive(\n",
    "    collection=fires,\n",
    "    description='fires',\n",
    "    fileFormat='CSV',\n",
    "    selectors=['DISTRICT','NAME','STATE_UT','count','SUB_ID','year'],\n",
    "    fileNamePrefix='fires_count_n_india_' + str(start_year) + '_' + str(end_year),\n",
    "    folder='GEE_Div',\n",
    "    )\n",
    "task.start()"
   ]
  },
  {
   "cell_type": "code",
   "execution_count": 33,
   "metadata": {},
   "outputs": [
    {
     "data": {
      "application/vnd.jupyter.widget-view+json": {
       "model_id": "cdac06f22a874927982a4e8a427245ad",
       "version_major": 2,
       "version_minor": 0
      },
      "text/plain": [
       "Map(center=[20, 80], controls=(WidgetControl(options=['position', 'transparent_bg'], widget=HBox(children=(Tog…"
      ]
     },
     "metadata": {},
     "output_type": "display_data"
    }
   ],
   "source": [
    "m = geemap.Map()\n",
    "\n",
    "m.setCenter(80, 20, 6)\n",
    "m.addLayer(fires, firesVis, 'Firms')\n",
    "m"
   ]
  }
 ],
 "metadata": {
  "kernelspec": {
   "display_name": "dsgeom",
   "language": "python",
   "name": "python3"
  },
  "language_info": {
   "codemirror_mode": {
    "name": "ipython",
    "version": 3
   },
   "file_extension": ".py",
   "mimetype": "text/x-python",
   "name": "python",
   "nbconvert_exporter": "python",
   "pygments_lexer": "ipython3",
   "version": "3.9.16"
  }
 },
 "nbformat": 4,
 "nbformat_minor": 2
}
