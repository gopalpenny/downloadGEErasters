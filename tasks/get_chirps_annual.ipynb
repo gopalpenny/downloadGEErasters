{
 "cells": [
  {
   "cell_type": "code",
   "execution_count": 44,
   "metadata": {},
   "outputs": [],
   "source": [
    "import numpy as np\n",
    "import ee\n",
    "import geemap\n",
    "ee.Initialize()"
   ]
  },
  {
   "cell_type": "code",
   "execution_count": 12,
   "metadata": {},
   "outputs": [],
   "source": [
    "import os\n",
    "# os.listdir()"
   ]
  },
  {
   "cell_type": "code",
   "execution_count": 13,
   "metadata": {},
   "outputs": [],
   "source": [
    "# The code generates monthly statistics from CHIRPS precipitation data.\n",
    "# This includes:\n",
    "# monthly total precip (mm)\n",
    "# max storm each month (mm)\n",
    "# median 5-day precipitation (mm)\n",
    "# max 5-day precipitation (mm)\n",
    "# sdii (total monthly precip / num storms >= 1 mm)\n",
    "\n",
    "# The code generates a raster with 60 bands for each year. This includes 1\n",
    "# band per month for each of the 5 summary statistics. The band names start \n",
    "# with a number, 0 for January up to 11 for December. The code is set to\n",
    "# generate & export images for 2000 and 2016. You can add more images by\n",
    "# duplicating the lines of code near the very bottom.\n",
    "\n",
    "# The scale is set to 100km x 100km pixels. You may want to decrease the size.\n"
   ]
  },
  {
   "cell_type": "code",
   "execution_count": 60,
   "metadata": {},
   "outputs": [],
   "source": [
    "cauvery = ee.FeatureCollection(\"projects/ee-gopalpenny/assets/india/cauvery_from_raster_250m_buffer_simplified\")\n",
    "# arkavathy = ee.FeatureCollection(\"users/gopalpenny/arkavathytanks/v_watershed_arkavathy_full\")\n",
    "boundary = cauvery\n",
    "boundary_name = 'cauvery'"
   ]
  },
  {
   "cell_type": "code",
   "execution_count": 51,
   "metadata": {},
   "outputs": [
    {
     "data": {
      "application/vnd.jupyter.widget-view+json": {
       "model_id": "4973a7dff0a244dc8ccbc1b6bbf18074",
       "version_major": 2,
       "version_minor": 0
      },
      "text/plain": [
       "Map(center=[12.839298850454025, 77.44621600153913], controls=(WidgetControl(options=['position', 'transparent_…"
      ]
     },
     "metadata": {},
     "output_type": "display_data"
    }
   ],
   "source": [
    "\n",
    "Map = geemap.Map()\n",
    "Map.addLayer(boundary, {}, 'boundary')\n",
    "Map.centerObject(boundary, 7)\n",
    "Map"
   ]
  },
  {
   "cell_type": "code",
   "execution_count": 15,
   "metadata": {},
   "outputs": [],
   "source": [
    "chirps = ee.ImageCollection(\"UCSB-CHG/CHIRPS/DAILY\")\n",
    "chirps_pentad = ee.ImageCollection(\"UCSB-CHG/CHIRPS/PENTAD\")\n",
    "era_land = ee.ImageCollection(\"ECMWF/ERA5_LAND/MONTHLY_AGGR\")\n"
   ]
  },
  {
   "cell_type": "code",
   "execution_count": 61,
   "metadata": {},
   "outputs": [
    {
     "data": {
      "text/plain": [
       "{'type': 'Image',\n",
       " 'bands': [{'id': 'chirps',\n",
       "   'data_type': {'type': 'PixelType', 'precision': 'double'},\n",
       "   'crs': 'EPSG:4326',\n",
       "   'crs_transform': [1, 0, 0, 0, 1, 0]}],\n",
       " 'properties': {'monsoon_yr': 2016, 'system:index': '0'}}"
      ]
     },
     "execution_count": 61,
     "metadata": {},
     "output_type": "execute_result"
    }
   ],
   "source": [
    "start_year = 2016\n",
    "end_year = 2022\n",
    "years = ee.List.sequence(start_year,end_year)\n",
    "yr = years.get(0)\n",
    "\n",
    "def getChirps(monsoon_yr):\n",
    "    monsoon_yr_start = ee.Date.fromYMD(monsoon_yr,6,1)\n",
    "    monsoon_yr_end = monsoon_yr_start.advance(1, \"year\")\n",
    "    chirps_monsoon = chirps_pentad.filterDate(monsoon_yr_start,monsoon_yr_end).reduce(ee.Reducer.sum()).rename('chirps')\n",
    "    chirps_monsoon = chirps_monsoon.set('monsoon_yr',monsoon_yr)\n",
    "    return chirps_monsoon\n",
    "\n",
    "chirps_monsoon = ee.ImageCollection(years.map(getChirps))\n",
    "chirps_monsoon.first().getInfo()"
   ]
  },
  {
   "cell_type": "code",
   "execution_count": 47,
   "metadata": {},
   "outputs": [],
   "source": [
    "chirps_monsoon_list = chirps_monsoon.toList(100)"
   ]
  },
  {
   "cell_type": "code",
   "execution_count": 66,
   "metadata": {},
   "outputs": [],
   "source": [
    "def download_chirps_monsoon_im(idx, boundary_name, folder):\n",
    "    chirps_im = chirps_monsoon_list.get(idx)\n",
    "    # print(idx)\n",
    "    chirps_im = ee.Image(chirps_im)\n",
    "    im_year = chirps_im.get('monsoon_yr').getInfo()\n",
    "    im_name = boundary_name + '_chirps_monsoon_yr_' + str(im_year)\n",
    "    chirps_task = ee.batch.Export.image.toDrive(image=chirps_im.int16(),\n",
    "                                description=im_name,\n",
    "                                folder=folder,\n",
    "                                scale=5000,\n",
    "                                region=boundary.geometry(),\n",
    "                                maxPixels=1e13)\n",
    "    print('Sending ' + im_name + ' to Google Drive')\n",
    "    chirps_task.start()\n",
    "    "
   ]
  },
  {
   "cell_type": "code",
   "execution_count": 80,
   "metadata": {},
   "outputs": [
    {
     "name": "stdout",
     "output_type": "stream",
     "text": [
      "<class 'int'>\n",
      "<class 'int'>\n",
      "<class 'int'>\n",
      "<class 'int'>\n",
      "<class 'int'>\n",
      "<class 'int'>\n",
      "<class 'int'>\n",
      "<class 'int'>\n"
     ]
    }
   ],
   "source": [
    "for idx in np.arange(0,years.size().getInfo()):\n",
    "    idx = int(idx) # ee doesn't like numby int64\n",
    "    download_chirps_monsoon_im(idx, boundary_name, folder = 'CauveryGEE')\n",
    "\n"
   ]
  },
  {
   "cell_type": "code",
   "execution_count": 8,
   "metadata": {},
   "outputs": [],
   "source": []
  }
 ],
 "metadata": {
  "kernelspec": {
   "display_name": "dsgeom",
   "language": "python",
   "name": "python3"
  },
  "language_info": {
   "codemirror_mode": {
    "name": "ipython",
    "version": 3
   },
   "file_extension": ".py",
   "mimetype": "text/x-python",
   "name": "python",
   "nbconvert_exporter": "python",
   "pygments_lexer": "ipython3",
   "version": "3.9.16"
  }
 },
 "nbformat": 4,
 "nbformat_minor": 2
}
